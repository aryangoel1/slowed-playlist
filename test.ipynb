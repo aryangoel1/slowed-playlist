{
 "cells": [
  {
   "cell_type": "code",
   "execution_count": 17,
   "id": "bfad5a26",
   "metadata": {},
   "outputs": [
    {
     "name": "stdout",
     "output_type": "stream",
     "text": [
      "Collecting google-auth-oauthlib\n",
      "  Using cached google_auth_oauthlib-1.2.2-py3-none-any.whl.metadata (2.7 kB)\n",
      "Requirement already satisfied: google-api-python-client in /Users/aryan/miniconda3/envs/slowed-playlist/lib/python3.11/site-packages (2.179.0)\n",
      "Requirement already satisfied: google-auth>=2.15.0 in /Users/aryan/miniconda3/envs/slowed-playlist/lib/python3.11/site-packages (from google-auth-oauthlib) (2.40.3)\n",
      "Collecting requests-oauthlib>=0.7.0 (from google-auth-oauthlib)\n",
      "  Using cached requests_oauthlib-2.0.0-py2.py3-none-any.whl.metadata (11 kB)\n",
      "Requirement already satisfied: httplib2<1.0.0,>=0.19.0 in /Users/aryan/miniconda3/envs/slowed-playlist/lib/python3.11/site-packages (from google-api-python-client) (0.30.0)\n",
      "Requirement already satisfied: google-auth-httplib2<1.0.0,>=0.2.0 in /Users/aryan/miniconda3/envs/slowed-playlist/lib/python3.11/site-packages (from google-api-python-client) (0.2.0)\n",
      "Requirement already satisfied: google-api-core!=2.0.*,!=2.1.*,!=2.2.*,!=2.3.0,<3.0.0,>=1.31.5 in /Users/aryan/miniconda3/envs/slowed-playlist/lib/python3.11/site-packages (from google-api-python-client) (2.25.1)\n",
      "Requirement already satisfied: uritemplate<5,>=3.0.1 in /Users/aryan/miniconda3/envs/slowed-playlist/lib/python3.11/site-packages (from google-api-python-client) (4.2.0)\n",
      "Requirement already satisfied: googleapis-common-protos<2.0.0,>=1.56.2 in /Users/aryan/miniconda3/envs/slowed-playlist/lib/python3.11/site-packages (from google-api-core!=2.0.*,!=2.1.*,!=2.2.*,!=2.3.0,<3.0.0,>=1.31.5->google-api-python-client) (1.70.0)\n",
      "Requirement already satisfied: protobuf!=3.20.0,!=3.20.1,!=4.21.0,!=4.21.1,!=4.21.2,!=4.21.3,!=4.21.4,!=4.21.5,<7.0.0,>=3.19.5 in /Users/aryan/miniconda3/envs/slowed-playlist/lib/python3.11/site-packages (from google-api-core!=2.0.*,!=2.1.*,!=2.2.*,!=2.3.0,<3.0.0,>=1.31.5->google-api-python-client) (6.32.0)\n",
      "Requirement already satisfied: proto-plus<2.0.0,>=1.22.3 in /Users/aryan/miniconda3/envs/slowed-playlist/lib/python3.11/site-packages (from google-api-core!=2.0.*,!=2.1.*,!=2.2.*,!=2.3.0,<3.0.0,>=1.31.5->google-api-python-client) (1.26.1)\n",
      "Requirement already satisfied: requests<3.0.0,>=2.18.0 in /Users/aryan/miniconda3/envs/slowed-playlist/lib/python3.11/site-packages (from google-api-core!=2.0.*,!=2.1.*,!=2.2.*,!=2.3.0,<3.0.0,>=1.31.5->google-api-python-client) (2.32.5)\n",
      "Requirement already satisfied: cachetools<6.0,>=2.0.0 in /Users/aryan/miniconda3/envs/slowed-playlist/lib/python3.11/site-packages (from google-auth>=2.15.0->google-auth-oauthlib) (5.5.2)\n",
      "Requirement already satisfied: pyasn1-modules>=0.2.1 in /Users/aryan/miniconda3/envs/slowed-playlist/lib/python3.11/site-packages (from google-auth>=2.15.0->google-auth-oauthlib) (0.4.2)\n",
      "Requirement already satisfied: rsa<5,>=3.1.4 in /Users/aryan/miniconda3/envs/slowed-playlist/lib/python3.11/site-packages (from google-auth>=2.15.0->google-auth-oauthlib) (4.9.1)\n",
      "Requirement already satisfied: pyparsing<4,>=3.0.4 in /Users/aryan/miniconda3/envs/slowed-playlist/lib/python3.11/site-packages (from httplib2<1.0.0,>=0.19.0->google-api-python-client) (3.2.3)\n",
      "Requirement already satisfied: charset_normalizer<4,>=2 in /Users/aryan/miniconda3/envs/slowed-playlist/lib/python3.11/site-packages (from requests<3.0.0,>=2.18.0->google-api-core!=2.0.*,!=2.1.*,!=2.2.*,!=2.3.0,<3.0.0,>=1.31.5->google-api-python-client) (3.4.3)\n",
      "Requirement already satisfied: idna<4,>=2.5 in /Users/aryan/miniconda3/envs/slowed-playlist/lib/python3.11/site-packages (from requests<3.0.0,>=2.18.0->google-api-core!=2.0.*,!=2.1.*,!=2.2.*,!=2.3.0,<3.0.0,>=1.31.5->google-api-python-client) (3.10)\n",
      "Requirement already satisfied: urllib3<3,>=1.21.1 in /Users/aryan/miniconda3/envs/slowed-playlist/lib/python3.11/site-packages (from requests<3.0.0,>=2.18.0->google-api-core!=2.0.*,!=2.1.*,!=2.2.*,!=2.3.0,<3.0.0,>=1.31.5->google-api-python-client) (2.5.0)\n",
      "Requirement already satisfied: certifi>=2017.4.17 in /Users/aryan/miniconda3/envs/slowed-playlist/lib/python3.11/site-packages (from requests<3.0.0,>=2.18.0->google-api-core!=2.0.*,!=2.1.*,!=2.2.*,!=2.3.0,<3.0.0,>=1.31.5->google-api-python-client) (2025.8.3)\n",
      "Requirement already satisfied: pyasn1>=0.1.3 in /Users/aryan/miniconda3/envs/slowed-playlist/lib/python3.11/site-packages (from rsa<5,>=3.1.4->google-auth>=2.15.0->google-auth-oauthlib) (0.6.1)\n",
      "Collecting oauthlib>=3.0.0 (from requests-oauthlib>=0.7.0->google-auth-oauthlib)\n",
      "  Using cached oauthlib-3.3.1-py3-none-any.whl.metadata (7.9 kB)\n",
      "Using cached google_auth_oauthlib-1.2.2-py3-none-any.whl (19 kB)\n",
      "Using cached requests_oauthlib-2.0.0-py2.py3-none-any.whl (24 kB)\n",
      "Using cached oauthlib-3.3.1-py3-none-any.whl (160 kB)\n",
      "Installing collected packages: oauthlib, requests-oauthlib, google-auth-oauthlib\n",
      "\u001b[2K   \u001b[38;2;114;156;31m━━━━━━━━━━━━━━━━━━━━━━━━━━━━━━━━━━━━━━━━\u001b[0m \u001b[32m3/3\u001b[0m [google-auth-oauthlib]\n",
      "\u001b[1A\u001b[2KSuccessfully installed google-auth-oauthlib-1.2.2 oauthlib-3.3.1 requests-oauthlib-2.0.0\n",
      "Note: you may need to restart the kernel to use updated packages.\n"
     ]
    }
   ],
   "source": [
    "%pip install google-auth-oauthlib google-api-python-client"
   ]
  },
  {
   "cell_type": "code",
   "execution_count": 2,
   "id": "83ba61b2",
   "metadata": {},
   "outputs": [],
   "source": [
    "import spotipy\n",
    "import os\n",
    "from spotipy.oauth2 import SpotifyOAuth\n",
    "from dotenv import load_dotenv\n",
    "import pprint\n",
    "import threading"
   ]
  },
  {
   "cell_type": "code",
   "execution_count": 3,
   "id": "cdd4bc6f",
   "metadata": {},
   "outputs": [],
   "source": [
    "load_dotenv()\n",
    "\n",
    "client_id = os.getenv(\"SPOTIFY_CLIENT_ID\")\n",
    "client_secret = os.getenv(\"SPOTIFY_CLIENT_SECRET\")\n",
    "redirect_uri = os.getenv(\"SPOTIFY_REDIRECT_URI\")\n",
    "playlist_id = os.getenv(\"SPOTIFY_PLAYLIST_ID\")\n",
    "\n",
    "scope = \"user-library-read\""
   ]
  },
  {
   "cell_type": "code",
   "execution_count": 4,
   "id": "34a878a4",
   "metadata": {},
   "outputs": [],
   "source": [
    "def get_playlist_tracks(playlist_id):\n",
    "    names = []\n",
    "    # Create an OAuth object --> gives us access to the Spotify API\n",
    "    sp = spotipy.Spotify(auth_manager=SpotifyOAuth(\n",
    "        client_id=client_id, \n",
    "        client_secret=client_secret,\n",
    "        redirect_uri=redirect_uri,\n",
    "        scope=scope\n",
    "    ))\n",
    "\n",
    "    results = sp.playlist(playlist_id)\n",
    "    \n",
    "    tracks = results['tracks']['items']\n",
    "    \n",
    "    for item in tracks:\n",
    "        names.append(item['track']['name'])\n",
    "    \n",
    "    return names"
   ]
  },
  {
   "cell_type": "code",
   "execution_count": 5,
   "id": "1ed76379",
   "metadata": {},
   "outputs": [
    {
     "name": "stdout",
     "output_type": "stream",
     "text": [
      "['Rodeo (Remix)', 'One Of The Girls (with JENNIE, Lily Rose Depp)', 'Confident', 'Her Way', 'Belong to the City', 'PERSIAN RUGS', 'FREAK IN YOU', 'Earned It (Fifty Shades Of Grey)', 'Streets', 'Wine Pon You (feat. Konshens)', 'Girls Need Love (with Drake) - Remix', \"Don't\", 'Wus Good / Curious', 'Coming Down', 'The Party & The After Party', 'What You Need', 'Sativa', 'Feel It', 'Sex With Me', 'Needed Me', 'Hotel', 'Woo', 'Lost in the Fire (feat. The Weeknd)', 'Often', 'Into It', \"Sun Down, I'm Up - Sped Up & Pitched\", 'Call Out My Name', 'Cherry Hill', 'All The Time', 'Excitement', 'One Of The Girls (with JENNIE, Lily Rose Depp)', 'Wine Pon You (feat. Konshens)', 'Break from Toronto', \"Don't Run\", 'Dreamin', 'SOMETHING ABOUT YOU', 'TBH', 'GREEDY', 'Come and See Me (feat. Drake)', 'Recognize (feat. Drake)', 'THINGS & SUCH', 'Say It', \"Let Em' Know\", 'Poison', 'Been Away', 'Forever Yours', 'Chanel', 'R e s e n t m e n t', 'N o C h i l l', 'Stay Ready (What A Life)', 'Grown Woman', 'WEST DISTRICT', 'One Night Only', 'Not You Too (feat. Chris Brown)', \"Flight's Booked\", 'ANOTHER DAY', 'Muse', 'PEACE OF MIND', 'Wednesday Night Interlude', 'Right Now', 'Pull Me Closer', 'Pain 1993 (with Playboi Carti)', 'Sorrows', 'Sex on the Beach', 'Cameras / Good Ones Go Interlude - Medley', 'Too Fast', 'Teenage Fever', 'Only U', 'F o r C e r t a i n', 'CN TOWER', 'Furthest Thing', '7969 Santa', 'Wick Man', 'Drew A Picasso', 'Can I', 'Slime You Out (feat. SZA)', 'Treacherous Twins', 'From Time', 'Finesse', 'MOTH BALLS', 'DEEPER', 'Hours In Silence', 'In For It', 'LASERS', \"LET'S GET MARRIED\", 'Preach', 'LOYAL (feat. Drake)', '3AM in Oakland', 'Down for Life (feat. PARTYNEXTDOOR, Future, Travis Scott, Rick Ross & Kodak Black)', 'Do Not Disturb', 'Fair Trade (with Travis Scott)', 'Race My Mind', 'No Friends In The Industry', 'Jaded', 'L o s e M y M i n d', 'Summers Over Interlude', 'Practice', 'Fire & Desire']\n"
     ]
    }
   ],
   "source": [
    "# Crack playlist ID: 3xWx987zAhFtL1r5kPhtpr\n",
    "\n",
    "crack = get_playlist_tracks(\"3xWx987zAhFtL1r5kPhtpr\")\n",
    "print(crack)"
   ]
  },
  {
   "cell_type": "code",
   "execution_count": 6,
   "id": "e59bca04",
   "metadata": {},
   "outputs": [],
   "source": [
    "from google_auth_oauthlib.flow import InstalledAppFlow\n",
    "from googleapiclient.discovery import build"
   ]
  },
  {
   "cell_type": "code",
   "execution_count": 7,
   "id": "b9e5c831",
   "metadata": {},
   "outputs": [
    {
     "name": "stdout",
     "output_type": "stream",
     "text": [
      "Please visit this URL to authorize this application: https://accounts.google.com/o/oauth2/auth?response_type=code&client_id=175375944583-k4t537kob18t0tt5621dbm0rhm8q69u4.apps.googleusercontent.com&redirect_uri=http%3A%2F%2Flocalhost%3A8081%2F&scope=https%3A%2F%2Fwww.googleapis.com%2Fauth%2Fyoutube.force-ssl&state=z51WVVWBEfoB2wcFhEQPRPZT7qEyB9&access_type=offline\n"
     ]
    }
   ],
   "source": [
    "# Create the flow using the client secrets file from the Google API Console.\n",
    "flow = InstalledAppFlow.from_client_secrets_file( \n",
    "    'client_secret.json',\n",
    "    scopes=['https://www.googleapis.com/auth/youtube.force-ssl']) # This grants full access to the YouTube account\n",
    "\n",
    "\"\"\" Essentially, flow will get an authentication code and will use that alongside the client_secrets.json file to retrieve an \n",
    "access token that allows our app to get what's defined by the scopes\"\"\"\n",
    "\n",
    "\n",
    "credentials = flow.run_local_server(port=8081) # Store the access and refresh tokens in the credentials object\n",
    "\n",
    "youtube = build('youtube', 'v3', credentials=credentials) # build the YouTube service object; gives access to YouTube API "
   ]
  },
  {
   "cell_type": "code",
   "execution_count": 9,
   "id": "610fe4c1",
   "metadata": {},
   "outputs": [],
   "source": [
    "def search_song(query):\n",
    "    result = youtube.search().list(part=\"snippet\", q=query, type=\"video\", maxResults=1).execute()\n",
    "    # result['items'][0]['snippet']['title'] --> title of song\n",
    "    return result\n",
    "\n",
    "# pprint.pprint(search_song(\"Some of Your Love PND Slowed Reverb\"))"
   ]
  },
  {
   "cell_type": "code",
   "execution_count": 13,
   "id": "51e121a4",
   "metadata": {},
   "outputs": [],
   "source": [
    "# slowed_version creates a list of dictionaries, each filled with search_song() output of indices\n",
    "# Test with only first 3 songs\n",
    "\n",
    "def main():\n",
    "    threads = []\n",
    "    slowed_version = []\n",
    "    for i in range(len(crack[:3])):\n",
    "        t = threading.Thread(target=search_song, args=((crack[i] + \" Slowed Reverb\"),))\n",
    "        slowed_version.append(search_song(crack[i] + \" Slowed Reverb\"))\n",
    "        threads.append(t)\n",
    "        t.start()\n",
    "\n",
    "    for t in threads:\n",
    "        t.join()\n",
    "    return slowed_version"
   ]
  },
  {
   "cell_type": "code",
   "execution_count": 8,
   "id": "b6e98933",
   "metadata": {},
   "outputs": [],
   "source": [
    "def create_playlist(title, description=None, privacyStatus='private', defaultLanguage=None):\n",
    "    snippet_body = {\n",
    "        'snippet': {\n",
    "            'title': title,\n",
    "            'description': description,\n",
    "            'defaultLanguage': defaultLanguage\n",
    "        },\n",
    "        'status': {\n",
    "            'privacyStatus': privacyStatus\n",
    "        }\n",
    "    }\n",
    "    return youtube.playlists().insert(part=\"snippet,status\", body=snippet_body).execute()"
   ]
  },
  {
   "cell_type": "code",
   "execution_count": null,
   "id": "df72819d",
   "metadata": {},
   "outputs": [],
   "source": [
    "result = create_playlist(title=\"Test\")\n",
    "# result['id'] is the playlist ID"
   ]
  },
  {
   "cell_type": "code",
   "execution_count": 1,
   "id": "80ddb284",
   "metadata": {},
   "outputs": [],
   "source": [
    "def add_songs(videoID, playlistID):\n",
    "    snippet_body = {\n",
    "        \"snippet\": {\n",
    "            \"playlistID\" : playlistID,\n",
    "            \"resourceID\": {\n",
    "                \"kind\": \"youtube#video\",\n",
    "                \"videoID\": videoID\n",
    "            }\n",
    "        }\n",
    "    }\n",
    "    # This makes a POST request to the YouTube API\n",
    "    return youtube.playlistItems().insert(part=\"snippet\", body=snippet_body).execute()"
   ]
  }
 ],
 "metadata": {
  "kernelspec": {
   "display_name": "slowed-playlist",
   "language": "python",
   "name": "python3"
  },
  "language_info": {
   "codemirror_mode": {
    "name": "ipython",
    "version": 3
   },
   "file_extension": ".py",
   "mimetype": "text/x-python",
   "name": "python",
   "nbconvert_exporter": "python",
   "pygments_lexer": "ipython3",
   "version": "3.11.13"
  }
 },
 "nbformat": 4,
 "nbformat_minor": 5
}
