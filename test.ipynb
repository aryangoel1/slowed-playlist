{
 "cells": [
  {
   "cell_type": "code",
   "execution_count": 33,
   "id": "83ba61b2",
   "metadata": {},
   "outputs": [],
   "source": [
    "import spotify_auth\n",
    "import pprint\n",
    "import youtube_auth"
   ]
  },
  {
   "cell_type": "code",
   "execution_count": null,
   "id": "34a878a4",
   "metadata": {},
   "outputs": [],
   "source": [
    "def get_playlist_tracks(playlist_id): # Put the names of the songs in our playlist into an array \n",
    "    names = []\n",
    "\n",
    "    results = spotify_auth.sp.playlist(playlist_id)\n",
    "    \n",
    "    tracks = results['tracks']['items']\n",
    "    \n",
    "    for item in tracks:\n",
    "        names.append(item['track']['name'])\n",
    "    \n",
    "    return names"
   ]
  },
  {
   "cell_type": "code",
   "execution_count": 28,
   "id": "1ed76379",
   "metadata": {},
   "outputs": [
    {
     "name": "stdout",
     "output_type": "stream",
     "text": [
      "['Rodeo (Remix)', 'One Of The Girls (with JENNIE, Lily Rose Depp)', 'Confident', 'Her Way', 'Belong to the City', 'PERSIAN RUGS', 'FREAK IN YOU', 'Earned It (Fifty Shades Of Grey)', 'Streets', 'Wine Pon You (feat. Konshens)', 'Girls Need Love (with Drake) - Remix', \"Don't\", 'Wus Good / Curious', 'Coming Down', 'The Party & The After Party', 'What You Need', 'Sativa', 'Feel It', 'Sex With Me', 'Needed Me', 'Hotel', 'Woo', 'Lost in the Fire (feat. The Weeknd)', 'Often', 'Into It', \"Sun Down, I'm Up - Sped Up & Pitched\", 'Call Out My Name', 'Cherry Hill', 'All The Time', 'Excitement', 'One Of The Girls (with JENNIE, Lily Rose Depp)', 'Wine Pon You (feat. Konshens)', 'Break from Toronto', \"Don't Run\", 'Dreamin', 'SOMETHING ABOUT YOU', 'TBH', 'GREEDY', 'Come and See Me (feat. Drake)', 'Recognize (feat. Drake)', 'THINGS & SUCH', 'Say It', \"Let Em' Know\", 'Poison', 'Been Away', 'Forever Yours', 'Chanel', 'R e s e n t m e n t', 'N o C h i l l', 'Stay Ready (What A Life)', 'Grown Woman', 'WEST DISTRICT', 'One Night Only', 'Not You Too (feat. Chris Brown)', \"Flight's Booked\", 'ANOTHER DAY', 'Muse', 'PEACE OF MIND', 'Wednesday Night Interlude', 'Right Now', 'Pull Me Closer', 'Pain 1993 (with Playboi Carti)', 'Sorrows', 'Sex on the Beach', 'Cameras / Good Ones Go Interlude - Medley', 'Too Fast', 'Teenage Fever', 'Only U', 'F o r C e r t a i n', 'CN TOWER', 'Furthest Thing', '7969 Santa', 'Wick Man', 'Drew A Picasso', 'Can I', 'Slime You Out (feat. SZA)', 'Treacherous Twins', 'From Time', 'Finesse', 'MOTH BALLS', 'DEEPER', 'Hours In Silence', 'In For It', 'LASERS', \"LET'S GET MARRIED\", 'Preach', 'LOYAL (feat. Drake)', '3AM in Oakland', 'Down for Life (feat. PARTYNEXTDOOR, Future, Travis Scott, Rick Ross & Kodak Black)', 'Do Not Disturb', 'Fair Trade (with Travis Scott)', 'Race My Mind', 'No Friends In The Industry', 'Jaded', 'L o s e M y M i n d', 'Summers Over Interlude', 'Practice', 'Fire & Desire']\n"
     ]
    }
   ],
   "source": [
    "# Crack playlist ID: 3xWx987zAhFtL1r5kPhtpr\n",
    "\n",
    "crack = get_playlist_tracks(\"3xWx987zAhFtL1r5kPhtpr\")\n",
    "print(crack)"
   ]
  },
  {
   "cell_type": "code",
   "execution_count": 31,
   "id": "610fe4c1",
   "metadata": {},
   "outputs": [
    {
     "name": "stdout",
     "output_type": "stream",
     "text": [
      "{'etag': 'vCMFW5JuhYUZBHb_MRQaF1IPIeA',\n",
      " 'items': [{'etag': 'RfHpTuCkqOe3jtWbbfHGC-3-bW8',\n",
      "            'id': {'kind': 'youtube#video', 'videoId': 'lovoL6CF604'},\n",
      "            'kind': 'youtube#searchResult',\n",
      "            'snippet': {'channelId': 'UC3UAU2yjg2_45PgGZHWJu3Q',\n",
      "                        'channelTitle': 'LxLiberty',\n",
      "                        'description': 'Enjoy ! original song : '\n",
      "                                       'https://www.youtube.com/watch?v=0vWkvXv5s_g '\n",
      "                                       'I do not own the rights to the '\n",
      "                                       'original song. Leave your ...',\n",
      "                        'liveBroadcastContent': 'none',\n",
      "                        'publishTime': '2019-03-11T22:05:38Z',\n",
      "                        'publishedAt': '2019-03-11T22:05:38Z',\n",
      "                        'thumbnails': {'default': {'height': 90,\n",
      "                                                   'url': 'https://i.ytimg.com/vi/lovoL6CF604/default.jpg',\n",
      "                                                   'width': 120},\n",
      "                                       'high': {'height': 360,\n",
      "                                                'url': 'https://i.ytimg.com/vi/lovoL6CF604/hqdefault.jpg',\n",
      "                                                'width': 480},\n",
      "                                       'medium': {'height': 180,\n",
      "                                                  'url': 'https://i.ytimg.com/vi/lovoL6CF604/mqdefault.jpg',\n",
      "                                                  'width': 320}},\n",
      "                        'title': 'PARTYNEXTDOOR - Some Of Your Love  (Slowed + '\n",
      "                                 'Reverb)'}}],\n",
      " 'kind': 'youtube#searchListResponse',\n",
      " 'nextPageToken': 'CAEQAA',\n",
      " 'pageInfo': {'resultsPerPage': 1, 'totalResults': 220415},\n",
      " 'regionCode': 'US'}\n"
     ]
    }
   ],
   "source": [
    "def search_song(query):\n",
    "    result = youtube_auth.youtube.search().list(part=\"snippet\", q=query, type=\"video\", maxResults=1).execute()\n",
    "    # result['items'][0]['snippet']['title'] --> title of song\n",
    "    return result\n",
    "\n",
    "pprint.pprint(search_song(\"Some of Your Love PND Slowed Reverb\"))"
   ]
  },
  {
   "cell_type": "code",
   "execution_count": null,
   "id": "51e121a4",
   "metadata": {},
   "outputs": [
    {
     "name": "stdout",
     "output_type": "stream",
     "text": [
      "['6rp-a910-XI', 'I7IYfWhHGZw', 'HW_d3_kyReo']\n"
     ]
    }
   ],
   "source": [
    "# This will return an array of youtube-video ids of slowed-reverb version of songs \n",
    "def ids_slowed_version(spotify_playlist):\n",
    "    slowed_version = []\n",
    "    for song in spotify_playlist[:3]:\n",
    "        slowed_version.append(search_song(song + \" Slowed Reverb\"))\n",
    "\n",
    "    ids = [video['items'][0]['id']['videoId'] for video in slowed_version]\n",
    "    \n",
    "    return ids\n",
    "\n",
    "pprint.pprint(ids_slowed_version(crack))"
   ]
  },
  {
   "cell_type": "code",
   "execution_count": null,
   "id": "b6e98933",
   "metadata": {},
   "outputs": [],
   "source": [
    "# Creates a playlist for you\n",
    "\n",
    "def create_playlist(title, description=None, privacyStatus='private', defaultLanguage=None):\n",
    "    snippet_body = {\n",
    "        'snippet': {\n",
    "            'title': title,\n",
    "            'description': description,\n",
    "            'defaultLanguage': defaultLanguage\n",
    "        },\n",
    "        'status': {\n",
    "            'privacyStatus': privacyStatus\n",
    "        }\n",
    "    }\n",
    "    return youtube_auth.youtube.playlists().insert(part=\"snippet,status\", body=snippet_body).execute()"
   ]
  }
 ],
 "metadata": {
  "kernelspec": {
   "display_name": "venv",
   "language": "python",
   "name": "python3"
  },
  "language_info": {
   "codemirror_mode": {
    "name": "ipython",
    "version": 3
   },
   "file_extension": ".py",
   "mimetype": "text/x-python",
   "name": "python",
   "nbconvert_exporter": "python",
   "pygments_lexer": "ipython3",
   "version": "3.13.7"
  }
 },
 "nbformat": 4,
 "nbformat_minor": 5
}
