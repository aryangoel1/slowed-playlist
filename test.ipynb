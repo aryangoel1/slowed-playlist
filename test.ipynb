{
 "cells": [
  {
   "cell_type": "code",
   "execution_count": 4,
   "id": "83ba61b2",
   "metadata": {},
   "outputs": [],
   "source": [
    "import spotipy\n",
    "import os\n",
    "from spotipy.oauth2 import SpotifyOAuth\n",
    "from dotenv import load_dotenv\n",
    "import pprint"
   ]
  },
  {
   "cell_type": "code",
   "execution_count": 5,
   "id": "cdd4bc6f",
   "metadata": {},
   "outputs": [],
   "source": [
    "load_dotenv()\n",
    "\n",
    "client_id = os.getenv(\"SPOTIFY_CLIENT_ID\")\n",
    "client_secret = os.getenv(\"SPOTIFY_CLIENT_SECRET\")\n",
    "redirect_uri = os.getenv(\"SPOTIFY_REDIRECT_URI\")\n",
    "playlist_id = os.getenv(\"SPOTIFY_PLAYLIST_ID\")\n",
    "\n",
    "scope = \"user-library-read\""
   ]
  },
  {
   "cell_type": "code",
   "execution_count": 6,
   "id": "34a878a4",
   "metadata": {},
   "outputs": [],
   "source": [
    "def get_playlist_tracks(playlist_id):\n",
    "    names = []\n",
    "    # Create an OAuth object\n",
    "    sp = spotipy.Spotify(auth_manager=SpotifyOAuth(\n",
    "        client_id=client_id, \n",
    "        client_secret=client_secret,\n",
    "        redirect_uri=redirect_uri,\n",
    "        scope=scope\n",
    "    ))\n",
    "\n",
    "    results = sp.playlist(playlist_id)\n",
    "    \n",
    "    tracks = results['tracks']['items']\n",
    "    \n",
    "    for item in tracks:\n",
    "        names.append(item['track']['name'])\n",
    "    \n",
    "    return names"
   ]
  },
  {
   "cell_type": "code",
   "execution_count": 7,
   "id": "1ed76379",
   "metadata": {},
   "outputs": [
    {
     "name": "stdout",
     "output_type": "stream",
     "text": [
      "['Rodeo (Remix)', 'One Of The Girls (with JENNIE, Lily Rose Depp)', 'Confident', 'Her Way', 'Belong to the City', 'PERSIAN RUGS', 'FREAK IN YOU', 'Earned It (Fifty Shades Of Grey)', 'Streets', 'Wine Pon You (feat. Konshens)', 'Girls Need Love (with Drake) - Remix', \"Don't\", 'Wus Good / Curious', 'Coming Down', 'The Party & The After Party', 'What You Need', 'Sativa', 'Feel It', 'Sex With Me', 'Needed Me', 'Hotel', 'Woo', 'Lost in the Fire (feat. The Weeknd)', 'Often', 'Into It', \"Sun Down, I'm Up - Sped Up & Pitched\", 'Call Out My Name', 'Cherry Hill', 'All The Time', 'Excitement', 'One Of The Girls (with JENNIE, Lily Rose Depp)', 'Wine Pon You (feat. Konshens)', 'Break from Toronto', \"Don't Run\", 'Dreamin', 'SOMETHING ABOUT YOU', 'TBH', 'GREEDY', 'Come and See Me (feat. Drake)', 'Recognize (feat. Drake)', 'THINGS & SUCH', 'Say It', \"Let Em' Know\", 'Poison', 'Been Away', 'Forever Yours', 'Chanel', 'R e s e n t m e n t', 'N o C h i l l', 'Stay Ready (What A Life)', 'Grown Woman', 'WEST DISTRICT', 'One Night Only', 'Not You Too (feat. Chris Brown)', \"Flight's Booked\", 'ANOTHER DAY', 'Muse', 'PEACE OF MIND', 'Wednesday Night Interlude', 'Right Now', 'Pull Me Closer', 'Pain 1993 (with Playboi Carti)', 'Sorrows', 'Sex on the Beach', 'Cameras / Good Ones Go Interlude - Medley', 'Too Fast', 'Teenage Fever', 'Only U', 'F o r C e r t a i n', 'CN TOWER', 'Furthest Thing', '7969 Santa', 'Wick Man', 'Drew A Picasso', 'Can I', 'Slime You Out (feat. SZA)', 'Treacherous Twins', 'From Time', 'Finesse', 'MOTH BALLS', 'DEEPER', 'Hours In Silence', 'In For It', 'LASERS', \"LET'S GET MARRIED\", 'Preach', 'LOYAL (feat. Drake)', '3AM in Oakland', 'Down for Life (feat. PARTYNEXTDOOR, Future, Travis Scott, Rick Ross & Kodak Black)', 'Do Not Disturb', 'Fair Trade (with Travis Scott)', 'Race My Mind', 'No Friends In The Industry', 'Jaded', 'L o s e M y M i n d', 'Summers Over Interlude', 'Practice', 'Fire & Desire']\n"
     ]
    }
   ],
   "source": [
    "# Crack playlist ID: 3xWx987zAhFtL1r5kPhtpr\n",
    "\n",
    "crack = get_playlist_tracks(\"3xWx987zAhFtL1r5kPhtpr\")\n",
    "print(crack)"
   ]
  },
  {
   "cell_type": "code",
   "execution_count": 8,
   "id": "e59bca04",
   "metadata": {},
   "outputs": [],
   "source": [
    "from google_auth_oauthlib.flow import InstalledAppFlow\n",
    "from googleapiclient.discovery import build"
   ]
  },
  {
   "cell_type": "code",
   "execution_count": null,
   "id": "b9e5c831",
   "metadata": {},
   "outputs": [
    {
     "name": "stdout",
     "output_type": "stream",
     "text": [
      "Please visit this URL to authorize this application: https://accounts.google.com/o/oauth2/auth?response_type=code&client_id=175375944583-k4t537kob18t0tt5621dbm0rhm8q69u4.apps.googleusercontent.com&redirect_uri=http%3A%2F%2Flocalhost%3A8081%2F&scope=https%3A%2F%2Fwww.googleapis.com%2Fauth%2Fyoutube.force-ssl&state=7X0LJ8PxhUtKqzUQfTjSIArnxpD4K3&access_type=offline\n"
     ]
    }
   ],
   "source": [
    "# Create the flow using the client secrets file from the Google API Console.\n",
    "flow = InstalledAppFlow.from_client_secrets_file( \n",
    "    'client_secret.json',\n",
    "    scopes=['https://www.googleapis.com/auth/youtube.force-ssl']) # This grants full access to the YouTube account\n",
    "\n",
    "\"\"\" Essentially, flow will get an authentication code and will use that alongside the client_secrets.json file to retrieve an \n",
    "access token that allows our app to get what's defined by the scopes\"\"\"\n",
    "\n",
    "\n",
    "credentials = flow.run_local_server(port=8081) # Store the access and refresh tokens in the credentials object\n",
    "\n",
    "youtube = build('youtube', 'v3', credentials=credentials) # build the YouTube service object; gives access to YouTube API "
   ]
  },
  {
   "cell_type": "code",
   "execution_count": null,
   "id": "610fe4c1",
   "metadata": {},
   "outputs": [],
   "source": [
    "def search_song(query):\n",
    "    result = youtube.search().list(part=\"snippet\", q=query, type=\"video\", maxResults=1).execute()\n",
    "    # result['items'][0]['snippet']['title']\n",
    "    return result\n",
    "\n",
    "# pprint.pprint(search_song(\"Some of Your Love PND Slowed Reverb\"))"
   ]
  },
  {
   "cell_type": "code",
   "execution_count": 10,
   "id": "51e121a4",
   "metadata": {},
   "outputs": [
    {
     "ename": "HttpError",
     "evalue": "<HttpError 403 when requesting https://youtube.googleapis.com/youtube/v3/search?part=snippet&q=Rodeo+%28Remix%29+Slowed+Reverb&type=video&maxResults=1&alt=json returned \"The request cannot be completed because you have exceeded your <a href=\"/youtube/v3/getting-started#quota\">quota</a>.\". Details: \"[{'message': 'The request cannot be completed because you have exceeded your <a href=\"/youtube/v3/getting-started#quota\">quota</a>.', 'domain': 'youtube.quota', 'reason': 'quotaExceeded'}]\">",
     "output_type": "error",
     "traceback": [
      "\u001b[31m---------------------------------------------------------------------------\u001b[39m",
      "\u001b[31mHttpError\u001b[39m                                 Traceback (most recent call last)",
      "\u001b[36mCell\u001b[39m\u001b[36m \u001b[39m\u001b[32mIn[10]\u001b[39m\u001b[32m, line 6\u001b[39m\n\u001b[32m      3\u001b[39m slowed_version = []\n\u001b[32m      5\u001b[39m \u001b[38;5;28;01mfor\u001b[39;00m song \u001b[38;5;129;01min\u001b[39;00m crack[:\u001b[32m5\u001b[39m]: \n\u001b[32m----> \u001b[39m\u001b[32m6\u001b[39m     slowed_version.append(\u001b[43msearch_song\u001b[49m\u001b[43m(\u001b[49m\u001b[43msong\u001b[49m\u001b[43m \u001b[49m\u001b[43m+\u001b[49m\u001b[43m \u001b[49m\u001b[33;43m\"\u001b[39;49m\u001b[33;43m Slowed Reverb\u001b[39;49m\u001b[33;43m\"\u001b[39;49m\u001b[43m)\u001b[49m)\n\u001b[32m      8\u001b[39m pprint.pprint(slowed_version)\n",
      "\u001b[36mCell\u001b[39m\u001b[36m \u001b[39m\u001b[32mIn[1]\u001b[39m\u001b[32m, line 2\u001b[39m, in \u001b[36msearch_song\u001b[39m\u001b[34m(query)\u001b[39m\n\u001b[32m      1\u001b[39m \u001b[38;5;28;01mdef\u001b[39;00m\u001b[38;5;250m \u001b[39m\u001b[34msearch_song\u001b[39m(query):\n\u001b[32m----> \u001b[39m\u001b[32m2\u001b[39m     result = \u001b[43myoutube\u001b[49m\u001b[43m.\u001b[49m\u001b[43msearch\u001b[49m\u001b[43m(\u001b[49m\u001b[43m)\u001b[49m\u001b[43m.\u001b[49m\u001b[43mlist\u001b[49m\u001b[43m(\u001b[49m\u001b[43mpart\u001b[49m\u001b[43m=\u001b[49m\u001b[33;43m\"\u001b[39;49m\u001b[33;43msnippet\u001b[39;49m\u001b[33;43m\"\u001b[39;49m\u001b[43m,\u001b[49m\u001b[43m \u001b[49m\u001b[43mq\u001b[49m\u001b[43m=\u001b[49m\u001b[43mquery\u001b[49m\u001b[43m,\u001b[49m\u001b[43m \u001b[49m\u001b[38;5;28;43mtype\u001b[39;49m\u001b[43m=\u001b[49m\u001b[33;43m\"\u001b[39;49m\u001b[33;43mvideo\u001b[39;49m\u001b[33;43m\"\u001b[39;49m\u001b[43m,\u001b[49m\u001b[43m \u001b[49m\u001b[43mmaxResults\u001b[49m\u001b[43m=\u001b[49m\u001b[32;43m1\u001b[39;49m\u001b[43m)\u001b[49m\u001b[43m.\u001b[49m\u001b[43mexecute\u001b[49m\u001b[43m(\u001b[49m\u001b[43m)\u001b[49m\n\u001b[32m      3\u001b[39m     \u001b[38;5;66;03m# result['items'][0]['snippet']['title']\u001b[39;00m\n\u001b[32m      4\u001b[39m     \u001b[38;5;28;01mreturn\u001b[39;00m result\n",
      "\u001b[36mFile \u001b[39m\u001b[32m~/Developer/slowed-playlist/.venv/lib/python3.13/site-packages/googleapiclient/_helpers.py:130\u001b[39m, in \u001b[36mpositional.<locals>.positional_decorator.<locals>.positional_wrapper\u001b[39m\u001b[34m(*args, **kwargs)\u001b[39m\n\u001b[32m    128\u001b[39m     \u001b[38;5;28;01melif\u001b[39;00m positional_parameters_enforcement == POSITIONAL_WARNING:\n\u001b[32m    129\u001b[39m         logger.warning(message)\n\u001b[32m--> \u001b[39m\u001b[32m130\u001b[39m \u001b[38;5;28;01mreturn\u001b[39;00m \u001b[43mwrapped\u001b[49m\u001b[43m(\u001b[49m\u001b[43m*\u001b[49m\u001b[43margs\u001b[49m\u001b[43m,\u001b[49m\u001b[43m \u001b[49m\u001b[43m*\u001b[49m\u001b[43m*\u001b[49m\u001b[43mkwargs\u001b[49m\u001b[43m)\u001b[49m\n",
      "\u001b[36mFile \u001b[39m\u001b[32m~/Developer/slowed-playlist/.venv/lib/python3.13/site-packages/googleapiclient/http.py:938\u001b[39m, in \u001b[36mHttpRequest.execute\u001b[39m\u001b[34m(self, http, num_retries)\u001b[39m\n\u001b[32m    936\u001b[39m     callback(resp)\n\u001b[32m    937\u001b[39m \u001b[38;5;28;01mif\u001b[39;00m resp.status >= \u001b[32m300\u001b[39m:\n\u001b[32m--> \u001b[39m\u001b[32m938\u001b[39m     \u001b[38;5;28;01mraise\u001b[39;00m HttpError(resp, content, uri=\u001b[38;5;28mself\u001b[39m.uri)\n\u001b[32m    939\u001b[39m \u001b[38;5;28;01mreturn\u001b[39;00m \u001b[38;5;28mself\u001b[39m.postproc(resp, content)\n",
      "\u001b[31mHttpError\u001b[39m: <HttpError 403 when requesting https://youtube.googleapis.com/youtube/v3/search?part=snippet&q=Rodeo+%28Remix%29+Slowed+Reverb&type=video&maxResults=1&alt=json returned \"The request cannot be completed because you have exceeded your <a href=\"/youtube/v3/getting-started#quota\">quota</a>.\". Details: \"[{'message': 'The request cannot be completed because you have exceeded your <a href=\"/youtube/v3/getting-started#quota\">quota</a>.', 'domain': 'youtube.quota', 'reason': 'quotaExceeded'}]\">"
     ]
    }
   ],
   "source": [
    "# In this cell, we want to call search_song() on all of the songs in our 'crack' playlist\n",
    "\n",
    "slowed_version = []\n",
    "\n",
    "for song in crack[:5]: \n",
    "    slowed_version.append(search_song(song + \" Slowed Reverb\"))\n",
    "\n",
    "pprint.pprint(slowed_version)"
   ]
  },
  {
   "cell_type": "code",
   "execution_count": null,
   "id": "b6e98933",
   "metadata": {},
   "outputs": [],
   "source": [
    "def create_playlist(title, description=None, privacyStatus='private', defaultLanguage=None):\n",
    "    snippet_body = {\n",
    "        'snippet': {\n",
    "            'title': title,\n",
    "            'description': description,\n",
    "            'defaultLanguage': defaultLanguage\n",
    "        },\n",
    "        'status': {\n",
    "            'privacyStatus': privacyStatus\n",
    "        }\n",
    "    }\n",
    "    return youtube.playlists().insert(part=\"snippet,status\", body=snippet_body).execute()"
   ]
  },
  {
   "cell_type": "code",
   "execution_count": null,
   "id": "df72819d",
   "metadata": {},
   "outputs": [],
   "source": [
    "result = create_playlist(title=\"Test\")\n",
    "# result['id'] is the playlist ID"
   ]
  },
  {
   "cell_type": "code",
   "execution_count": null,
   "id": "80ddb284",
   "metadata": {},
   "outputs": [],
   "source": [
    "def add_songs(videoID, playlistID):\n",
    "    snippet_body = {\n",
    "        \"snippet\": {\n",
    "            \"playlistID\" : playlistID,\n",
    "            \"resourceID\": {\n",
    "                \"kind\": \"youtube#video\",\n",
    "                \"videoID\": videoID\n",
    "            }\n",
    "        }\n",
    "    }\n",
    "    # This makes a POST request to the YouTube API\n",
    "    return youtube.playlistItems().insert(part=\"snippet\", body=snippet_body).execute()"
   ]
  }
 ],
 "metadata": {
  "kernelspec": {
   "display_name": ".venv",
   "language": "python",
   "name": "python3"
  },
  "language_info": {
   "codemirror_mode": {
    "name": "ipython",
    "version": 3
   },
   "file_extension": ".py",
   "mimetype": "text/x-python",
   "name": "python",
   "nbconvert_exporter": "python",
   "pygments_lexer": "ipython3",
   "version": "3.13.5"
  }
 },
 "nbformat": 4,
 "nbformat_minor": 5
}
